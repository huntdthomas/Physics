{
 "cells": [
  {
   "cell_type": "code",
   "execution_count": 1,
   "metadata": {
    "collapsed": true
   },
   "outputs": [],
   "source": [
    "import numpy as np\n",
    "from scipy.integrate import quad, dblquad\n",
    "%matplotlib inline\n",
    "import matplotlib.pyplot as plt\n",
    "from scipy.optimize import minimize"
   ]
  },
  {
   "cell_type": "code",
   "execution_count": 2,
   "metadata": {
    "collapsed": false
   },
   "outputs": [],
   "source": [
    "thetamin = 25.6*np.pi/180\n",
    "thetamax = 33.7*np.pi/180\n",
    "t = 1*10**-6 #Cell Thickness"
   ]
  },
  {
   "cell_type": "markdown",
   "metadata": {},
   "source": [
    "# Data"
   ]
  },
  {
   "cell_type": "code",
   "execution_count": 3,
   "metadata": {
    "collapsed": true
   },
   "outputs": [],
   "source": [
    "tempsC = np.array([26, 27, 29, 31, 33, 35, 37])\n",
    "voltages = np.array([2,3,6,7,9,11,12.5,14,16,18,20,22,23.5,26,27.5,29,31,32.5,34,36])"
   ]
  },
  {
   "cell_type": "code",
   "execution_count": 4,
   "metadata": {
    "collapsed": true
   },
   "outputs": [],
   "source": [
    "measured_psi1 = np.array([[10.3, 15.4, 26.0, 27.7, 29.5, 30.5, 31.0, 31.4, 31.8, 32.2, 32.4, 32.6, 32.7, 32.9, 33.0, 33.0, 33.1, 33.1, 33.2, 33.2]])\n",
    "measured_psi2 = np.array([[7.6, 11.5, 22.3, 24.7, 27.8, 29.4, 30.1, 30.7, 31.2, 31.6, 31.9, 32.2, 32.4, 32.6, 32.7, 32.8, 32.9, 32.9, 33.0, 33.1]])\n",
    "measured_psi3 = np.array([[4.7, 7.3, 15.5, 18.1, 22.7, 25.9, 27.5, 28.6, 29.6, 30.3, 30.8, 31.2, 31.5, 31.8, 32.0, 32.1, 32.3, 32.4, 32.5, 32.6]])\n",
    "measured_psi4 = np.array([[3.5, 5.4, 11.5, 13.8, 18.1, 21.9, 24.1, 25.9, 27.5, 28.7, 29.5, 30.1,30.5, 31.0, 31.3, 31.5, 31.7, 31.9, 32.0, 32.2]])\n",
    "measured_psi5 = np.array([[2.5, 3.7, 8.0, 9.6, 12.9, 16.3, 18.7, 20.9, 23.4, 25.3, 26.8, 27.9, 28.5, 29.4, 29.8, 30.2, 30.6, 30.8, 31.1, 31.3]])\n",
    "measured_psi6 = np.array([[1.9, 2.9, 6.1, 7.3, 9.8, 12.6, 14.7, 16.8, 19.4, 21.7, 23.6, 25.2, 26.1, 27.4, 28.0, 28.6, 29.2, 29.5, 29.9, 30.3]])\n",
    "measured_psi7 = np.array([[1.5, 2.3, 4.7, 5.6, 7.5, 9.6, 11.2, 12.9, 15.2, 17.5, 19.6, 21.4, 22.7, 24.4, 25.37, 26.1, 27.02, 27.5, 28.0, 28.6]])"
   ]
  },
  {
   "cell_type": "code",
   "execution_count": 5,
   "metadata": {
    "collapsed": false
   },
   "outputs": [],
   "source": [
    "#This Block just converts units\n",
    "\n",
    "fields = np.array([entry/t for entry in voltages])\n",
    "\n",
    "KC = 273.15\n",
    "tempsK = np.array([entry+KC for entry in tempsC]) #Celsius to Kelvin\n",
    "\n",
    "AllPsi = np.concatenate((measured_psi1,measured_psi2,measured_psi3,measured_psi4,measured_psi5,measured_psi6,measured_psi7),axis=0)"
   ]
  },
  {
   "cell_type": "markdown",
   "metadata": {},
   "source": [
    "#Calculate the Boltzmann Factor and the Partition Function"
   ]
  },
  {
   "cell_type": "markdown",
   "metadata": {},
   "source": [
    "$$ {Boltz() \\:returns:}\\:\\: e^{\\frac{-U}{k_bT}}\\:sin\\:{\\theta}\\ $$"
   ]
  },
  {
   "cell_type": "code",
   "execution_count": 6,
   "metadata": {
    "collapsed": true
   },
   "outputs": [],
   "source": [
    "def Boltz(theta,phi,T,p0k,alpha,E):\n",
    "    \"\"\"Compute the integrand for the Boltzmann factor.\n",
    "    Returns\n",
    "    -------\n",
    "    A function of theta,phi,T,p0k,alpha,E to be used within dblquad\n",
    "    \"\"\"\n",
    "    return np.exp((1/T)*p0k*E*np.sin(theta)*np.cos(phi)*(1+alpha*E*np.cos(phi)))*np.sin(theta)"
   ]
  },
  {
   "cell_type": "markdown",
   "metadata": {},
   "source": [
    "#Calculate the Tilt Angle $\\psi$"
   ]
  },
  {
   "cell_type": "markdown",
   "metadata": {},
   "source": [
    "$$ numerator() \\:returns: {sin\\:{2\\theta}\\:cos\\:{\\phi}}\\:e^{\\frac{-U}{k_bT}}\\:sin\\:{\\theta} $$"
   ]
  },
  {
   "cell_type": "code",
   "execution_count": 7,
   "metadata": {
    "collapsed": true
   },
   "outputs": [],
   "source": [
    "def numerator(theta,phi,T,p0k,alpha,E):\n",
    "    boltz = Boltz(theta,phi,T,p0k,alpha,E)\n",
    "    return np.sin(2*theta)*np.cos(phi)*boltz"
   ]
  },
  {
   "cell_type": "markdown",
   "metadata": {},
   "source": [
    "$$ denominator()\\: returns: {({cos}^2{\\theta} - {sin}^2{\\theta}\\:{cos}^2{\\phi}})\\:e^{\\frac{-U}{k_bT}}\\:sin\\:{\\theta} $$"
   ]
  },
  {
   "cell_type": "code",
   "execution_count": 8,
   "metadata": {
    "collapsed": true
   },
   "outputs": [],
   "source": [
    "def denominator(theta,phi,T,p0k,alpha,E):\n",
    "    boltz = Boltz(theta,phi,T,p0k,alpha,E)\n",
    "    return ((np.cos(theta)**2) - ((np.sin(theta)**2) * (np.cos(phi)**2)))*boltz"
   ]
  },
  {
   "cell_type": "markdown",
   "metadata": {},
   "source": [
    "$$ tan(2\\psi) =  \\frac{\\int_{\\theta_{min}}^{\\theta_{max}} \\int_0^{2\\pi} {sin\\:{2\\theta}\\:cos\\:{\\phi}}\\:e^{\\frac{-U}{k_bT}}\\:sin\\:{\\theta}\\: d\\theta d\\phi}{\\int_{\\theta_{min}}^{\\theta_{max}} \\int_0^{2\\pi} ({{cos}^2{\\theta} - {sin}^2{\\theta}\\:{cos}^2{\\phi}})\\:e^{\\frac{-U}{k_bT}}\\:sin\\:{\\theta}\\: d\\theta d\\phi} $$"
   ]
  },
  {
   "cell_type": "code",
   "execution_count": 9,
   "metadata": {
    "collapsed": true
   },
   "outputs": [],
   "source": [
    "def compute_psi(T,p0k,alpha,E,thetamin,thetamax):\n",
    "    \"\"\"Computes the tilt angle(psi) by use of our tan(2psi) equation\n",
    "    Returns\n",
    "    -------\n",
    "    Float:\n",
    "    The statistical tilt angle with conditions T,p0k,alpha,E\n",
    "    \"\"\"\n",
    "    \n",
    "    avg_numerator, avg_numerator_error = dblquad(numerator, 0, 2*np.pi, lambda theta: thetamin, lambda theta: thetamax,args=(T,p0k,alpha,E))\n",
    "    \n",
    "    avg_denominator, avg_denominator_error = dblquad(denominator, 0, 2*np.pi, lambda theta: thetamin, lambda theta: thetamax,args=(T,p0k,alpha,E))\n",
    "    \n",
    "    psi = (1/2)*np.arctan(avg_numerator / (avg_denominator)) * (180 /(np.pi)) #Converting to degrees from radians and divide by two\n",
    "    \n",
    "    return psi"
   ]
  },
  {
   "cell_type": "markdown",
   "metadata": {},
   "source": [
    "#Least Square Fitting $\\alpha$ and $\\rho_0$"
   ]
  },
  {
   "cell_type": "code",
   "execution_count": 20,
   "metadata": {
    "collapsed": true
   },
   "outputs": [],
   "source": [
    "def compute_error(xo,fields,T,thetamin,thetamax,measured_psi):\n",
    "    \"\"\"Computes the squared error for a pair of parameters by comparing it to all measured tilt angles\n",
    "    at one temperature.\n",
    "    This will be used with the minimization function, xo is a point that the minimization checks.\n",
    "    \n",
    "    Parameters/Conditions\n",
    "    ----------\n",
    "    x0: \n",
    "        An array of the form [alpha^13,p0^33].\n",
    "        \n",
    "    Returns\n",
    "    -------\n",
    "    Float: Error\n",
    "    \"\"\"\n",
    "    \n",
    "    alpha = xo[0]/(1e10)\n",
    "    p0 = xo[1]/(1e30)\n",
    "    \n",
    "    p0k = p0/1.3806488e-23\n",
    "    \n",
    "    computed_psi = np.array([compute_psi(T,p0k,alpha,E,thetamin,thetamax) for E in fields])\n",
    "    \n",
    "    Err = computed_psi - measured_psi\n",
    "    ErrSqr = np.array([i**2 for i in Err])    \n",
    "    return np.sum(ErrSqr)*1e7 #Scaling the Squared Error up here seems to help with minimization precision."
   ]
  },
  {
   "cell_type": "markdown",
   "metadata": {},
   "source": [
    "It might be better to use the minimization function individually for each temperature range. The minimization function returns a minimization object, which gives extra information about the results. The two important entries are fun and x. \n",
    "\n",
    "fun is the scalar value of the function that is being minimized. In our case fun is the squared error. \n",
    "\n",
    "x is the solution array of the form [alpha^10,p0^30]\n",
    "\n",
    "The reason it might be better to just minimze the squared error function, instead of using the minimize_func that I wrote below is because the minimize function is very picky about the initial guess. Also the minimization function tends to stop when the result of the function is one the order of 10^-3."
   ]
  },
  {
   "cell_type": "markdown",
   "metadata": {},
   "source": [
    "#Final Result for $\\alpha$ and $\\rho_0$"
   ]
  },
  {
   "cell_type": "markdown",
   "metadata": {},
   "source": [
    "Right now everything below this might not work as well as manually guessing and checking. The idea for this section was to automate that process and just return our entire solution arrays at the end of the notebook."
   ]
  },
  {
   "cell_type": "code",
   "execution_count": 11,
   "metadata": {
    "collapsed": true
   },
   "outputs": [],
   "source": [
    "def minimize_func(guess,fields,T,thetamin,thetamax,measured_psi,bnds):\n",
    "    \"\"\"A utility function that is will help me construct alpha and p0 arrays later.\n",
    "    Uses the imported minimize function and compute_error to best fit our parameters\n",
    "    at a temperature.\n",
    "    \n",
    "    Parameters/Conditions\n",
    "    ----------\n",
    "    guess: \n",
    "        The initial guess for minimize().\n",
    "        \n",
    "    Returns\n",
    "    -------\n",
    "    Array: [alpha,p0]\n",
    "    \"\"\"\n",
    "    \n",
    "    results = minimize(compute_error,guess,args=(fields,T,thetamin,thetamax,measured_psi),method = 'SLSQP',bounds = bnds)\n",
    "    xres = np.array(dict(results.items())['x']) \n",
    "    \n",
    "    \"\"\"Minimize returns a special minimization object. That is similar to a dictionary but not quite.\n",
    "    xres is grabbing just the x result of the minimization object, which is the [alpha,p0] array that\n",
    "    we care about\"\"\"\n",
    "    \n",
    "    alpha_results = xres[0]\n",
    "    p0_results = xres[1]\n",
    "    \n",
    "    return np.array([alpha_results,p0_results])\n",
    "    "
   ]
  },
  {
   "cell_type": "code",
   "execution_count": 12,
   "metadata": {
    "collapsed": true
   },
   "outputs": [],
   "source": [
    "def solution(initial_guess,fields,tempsK,thetamin,thetamax,AllPsi,initial_bnds):\n",
    "    \n",
    "    \"\"\"Constructs Alpha and p0 arrays where each entry is the value of alpha,p0 at the corresponding temperature in\n",
    "    tempsK. Initial guess and initial bounds are changed each iteration of the loop to the previous values of alpha and p0.\n",
    "    Alpha and p0 decrease so this helps to cut down on the range.\n",
    "    \n",
    "    Parameters/Conditions\n",
    "    ----------\n",
    "    initial_guess: \n",
    "        The initial guess for minimize().\n",
    "    initial_bnds:\n",
    "        The initial bounds for minimize().\n",
    "        \n",
    "        \n",
    "    Returns\n",
    "    -------\n",
    "    Array,Array: Alpha Array in micro meters, p0 Array in debye\n",
    "    \"\"\"\n",
    "    \n",
    "    alpha = np.array([])\n",
    "    p0 = np.array([])\n",
    "    \n",
    "    guess = initial_guess\n",
    "    bnds = initial_bnds\n",
    "    \n",
    "    for i in range(len(tempsK)):\n",
    "        res = minimize_func(guess,fields,tempsK[i],thetamin,thetamax,AllPsi[i],bnds)\n",
    "        \n",
    "        alpha = np.append(alpha,res[0])\n",
    "        p0 = np.append(p0,res[1])\n",
    "        \n",
    "        guess = (res[0]-10,res[1]-10)\n",
    "        bnds = ((initial_bnds[0][0],res[0]),(initial_bnds[1][0],res[1]))\n",
    "    \n",
    "    alpha = alpha*1e-4\n",
    "    \n",
    "    p0 = p0/(3.33564)\n",
    "        \n",
    "    return alpha,p0"
   ]
  },
  {
   "cell_type": "code",
   "execution_count": 13,
   "metadata": {
    "collapsed": true
   },
   "outputs": [],
   "source": [
    "initial_guess = (2575,2168)\n",
    "initial_bnds = ((1000,2600),(200,2300))"
   ]
  },
  {
   "cell_type": "code",
   "execution_count": 14,
   "metadata": {
    "collapsed": false
   },
   "outputs": [
    {
     "name": "stderr",
     "output_type": "stream",
     "text": [
      "/usr/local/lib/python3.4/dist-packages/IPython/kernel/__main__.py:7: RuntimeWarning: overflow encountered in exp\n",
      "/usr/local/lib/python3.4/dist-packages/scipy/integrate/quadpack.py:352: IntegrationWarning: The occurrence of roundoff error is detected, which prevents \n",
      "  the requested tolerance from being achieved.  The error may be \n",
      "  underestimated.\n",
      "  warnings.warn(msg, IntegrationWarning)\n"
     ]
    }
   ],
   "source": [
    "alpha_micro,p0Debye = solution(initial_guess,fields,tempsK,thetamin,thetamax,AllPsi,initial_bnds)"
   ]
  },
  {
   "cell_type": "code",
   "execution_count": 15,
   "metadata": {
    "collapsed": false
   },
   "outputs": [
    {
     "data": {
      "text/plain": [
       "array([ 0.24539581,  0.24252381,  0.24152381,  0.24052381,  0.23952381,\n",
       "        0.23852381,  0.23752381])"
      ]
     },
     "execution_count": 15,
     "metadata": {},
     "output_type": "execute_result"
    }
   ],
   "source": [
    "alpha_micro"
   ]
  },
  {
   "cell_type": "code",
   "execution_count": 19,
   "metadata": {
    "collapsed": false
   },
   "outputs": [
    {
     "data": {
      "text/plain": [
       "array([  6.53631799e-28,   4.74869956e-28,   4.71872030e-28,\n",
       "         4.68874105e-28,   4.65876179e-28,   4.62878254e-28,\n",
       "         4.59880329e-28])"
      ]
     },
     "execution_count": 19,
     "metadata": {},
     "output_type": "execute_result"
    }
   ],
   "source": [
    "p0Debye"
   ]
  },
  {
   "cell_type": "markdown",
   "metadata": {},
   "source": [
    "There might be something odd with p0Debye"
   ]
  },
  {
   "cell_type": "code",
   "execution_count": null,
   "metadata": {
    "collapsed": true
   },
   "outputs": [],
   "source": []
  }
 ],
 "metadata": {
  "kernelspec": {
   "display_name": "Python 3",
   "language": "python",
   "name": "python3"
  },
  "language_info": {
   "codemirror_mode": {
    "name": "ipython",
    "version": 3
   },
   "file_extension": ".py",
   "mimetype": "text/x-python",
   "name": "python",
   "nbconvert_exporter": "python",
   "pygments_lexer": "ipython3",
   "version": "3.4.0"
  }
 },
 "nbformat": 4,
 "nbformat_minor": 0
}
