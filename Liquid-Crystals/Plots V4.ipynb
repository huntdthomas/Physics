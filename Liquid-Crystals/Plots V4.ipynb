{
 "cells": [
  {
   "cell_type": "markdown",
   "metadata": {},
   "source": [
    "TO DO:\n",
    "\n",
    "Need to be able to scatter plot measured values of Psi on top of the current Psi plot.\n",
    "\n",
    "Alpha and rho LaTeX not working in plots.\n",
    "\n",
    "Legend needs to be move in the Psi plot.\n",
    "\n",
    "Consider also applying the scatter of the data and curve fit style of plotting for the parameters\n",
    "\n",
    "Plots in general need to look better\n",
    "\n",
    "LaTeX in all of the equations"
   ]
  },
  {
   "cell_type": "code",
   "execution_count": 1,
   "metadata": {
    "collapsed": true
   },
   "outputs": [],
   "source": [
    "import numpy as np\n",
    "from scipy.integrate import quad, dblquad\n",
    "%matplotlib inline\n",
    "import matplotlib.pyplot as plt"
   ]
  },
  {
   "cell_type": "markdown",
   "metadata": {},
   "source": [
    "This notebook calculates and plots the theoretical tilt angles. It will also plot the alpha and p0 factors vs temperature that are given in the cell below this."
   ]
  },
  {
   "cell_type": "markdown",
   "metadata": {},
   "source": [
    "# Material Characteristics"
   ]
  },
  {
   "cell_type": "code",
   "execution_count": 2,
   "metadata": {
    "collapsed": true
   },
   "outputs": [],
   "source": [
    "thetamin = 25.6*np.pi/180\n",
    "thetamax = 33.7*np.pi/180\n",
    "t = 4*10**-6 #Cell Thickness"
   ]
  },
  {
   "cell_type": "markdown",
   "metadata": {},
   "source": [
    "# Data"
   ]
  },
  {
   "cell_type": "code",
   "execution_count": 3,
   "metadata": {
    "collapsed": false
   },
   "outputs": [],
   "source": [
    "tempsC = np.array([26, 27, 29, 31, 33, 35, 37])\n",
    "voltages = np.array([2,3,6,7,9,11,12.5,14,16,18,20,22,23.5,26,27.5,29,31,32.5,34,36])\n",
    "alpha_micro = np.array([.2575,.2475,.2275,.209,.189,.176,.15])\n",
    "p0Debye = np.array([650,475,300,225,160,125,100])  #Temperature Increases to the right"
   ]
  },
  {
   "cell_type": "code",
   "execution_count": 16,
   "metadata": {
    "collapsed": false
   },
   "outputs": [],
   "source": [
    "#This Block just converts units\n",
    "\n",
    "fields = np.array([entry/t for entry in voltages])\n",
    "\n",
    "debye = 3.33564e-30\n",
    "p0_array = np.array([entry*debye for entry in p0Debye]) #debye units to SI units\n",
    "\n",
    "k = 1.3806488e-23\n",
    "p0k_array = np.array([entry/k for entry in p0_array]) #p0k is used because it helps with the integration\n",
    "\n",
    "KC = 273.15\n",
    "tempsK = np.array([entry+KC for entry in tempsC]) #Celsius to Kelvin\n",
    "\n",
    "alpha_array = np.array([entry*1e-6 for entry in alpha_micro])"
   ]
  },
  {
   "cell_type": "markdown",
   "metadata": {},
   "source": [
    "# Langevin-Debye Model"
   ]
  },
  {
   "cell_type": "markdown",
   "metadata": {},
   "source": [
    "$$ U(\\theta,\\phi) = -\\rho_0E\\:sin\\:\\theta\\:cos\\:\\theta\\:(1+\\alpha E\\:cos\\:\\phi) $$"
   ]
  },
  {
   "cell_type": "markdown",
   "metadata": {},
   "source": [
    "# First, Calculate the Boltzmann Factor and the Partition Function"
   ]
  },
  {
   "cell_type": "markdown",
   "metadata": {},
   "source": [
    "$$ {Boltz() returns:}\\:\\: e^{\\frac{-U}{k_bT}}\\:sin\\:{\\theta}\\ $$"
   ]
  },
  {
   "cell_type": "code",
   "execution_count": 5,
   "metadata": {
    "collapsed": true
   },
   "outputs": [],
   "source": [
    "def Boltz(theta,phi,T,p0k,alpha,E):\n",
    "    \"\"\"Compute the integrand for the Boltzmann factor.\n",
    "    Returns\n",
    "    -------\n",
    "    A function of theta,phi,T,p0k,alpha,E to be used within dblquad\n",
    "    \"\"\"\n",
    "    return np.exp((1/T)*p0k*E*np.sin(theta)*np.cos(phi)*(1+alpha*E*np.cos(phi)))*np.sin(theta)"
   ]
  },
  {
   "cell_type": "markdown",
   "metadata": {},
   "source": [
    "$$ Z(\\theta,\\phi,U) = \\int_{\\theta_{min}}^{\\theta_{max}} \\int_0^{2\\pi} e^{\\frac{-U}{k_bT}}\\:sin\\:{\\theta}\\: d\\theta d\\phi $$"
   ]
  },
  {
   "cell_type": "code",
   "execution_count": 6,
   "metadata": {
    "collapsed": false
   },
   "outputs": [],
   "source": [
    "def Z_func(T,p0k,alpha,E,thetamin,thetamax):\n",
    "    \"\"\"Compute the Boltzmann factor by using dblquad to double integrate for a set of conditions.\n",
    "    Returns\n",
    "    -------\n",
    "    Float :\n",
    "        The Boltzmann factor, Z, at theta,phi,T,p0k,alpha,E\n",
    "    \"\"\"\n",
    "\n",
    "    Z, Z_error = dblquad(Boltz, 0, 2*np.pi,lambda theta: thetamin, lambda theta: thetamax,args=(T,p0k,alpha,E))\n",
    "\n",
    "    return Z"
   ]
  },
  {
   "cell_type": "markdown",
   "metadata": {},
   "source": [
    "# Second, Calculate the Tilt Angle $\\psi$"
   ]
  },
  {
   "cell_type": "markdown",
   "metadata": {},
   "source": [
    "$$ {psifunc() returns:   } \\frac{sin\\:{2\\theta}\\:cos\\:{\\phi}}{{cos}^2{\\theta} - {sin}^2{\\theta}\\:{cos}^2{\\phi}}\\:e^{\\frac{-U}{k_bT}}\\:sin{(\\theta}) $$"
   ]
  },
  {
   "cell_type": "code",
   "execution_count": 25,
   "metadata": {
    "collapsed": false
   },
   "outputs": [],
   "source": [
    "def psi_func(theta,phi,T,p0k,alpha,E):\n",
    "    \"\"\"Compute the integrand for use in our <tan(2psi)> equation.\n",
    "    Returns\n",
    "    -------\n",
    "    X(theta,phi)*exp(-U/kT)\n",
    "    A function of theta,phi,T,p0k,alpha,E to be used within dblquad\n",
    "    \"\"\"\n",
    "    numerator = np.sin(2*theta)*np.cos(phi)\n",
    "\n",
    "    denominator = (np.cos(theta)**2) - ((np.sin(theta)**2) * (np.cos(phi)**2))\n",
    "\n",
    "    boltz = Boltz(theta,phi,T,p0k,alpha,E)\n",
    "\n",
    "    return (numerator/denominator)*boltz"
   ]
  },
  {
   "cell_type": "markdown",
   "metadata": {},
   "source": [
    "$$ tan(2\\psi) = \\frac{1}{Z}\\int_{\\theta_{min}}^{\\theta_{max}} \\int_0^{2\\pi} \\frac{sin\\:{2\\theta}\\:cos\\:{\\phi}}{{cos}^2{\\theta} - {sin}^2{\\theta}\\:{cos}^2{\\phi}}\\:e^{\\frac{-U}{k_bT}}\\:sin{(\\theta})\\: d\\theta d\\phi $$"
   ]
  },
  {
   "cell_type": "code",
   "execution_count": 18,
   "metadata": {
    "collapsed": true
   },
   "outputs": [],
   "source": [
    "def compute_psi(T,p0k,alpha,E,thetamin,thetamax):\n",
    "    \"\"\"Computes the tilt angle(psi) by use of our tan(2psi) equation\n",
    "    Returns\n",
    "    -------\n",
    "    Float:\n",
    "    The statistical tilt angle with conditions T,p0k,alpha,E\n",
    "    \"\"\"\n",
    "    \n",
    "    tan2psi, tan2psi_error = dblquad(psi_func, 0, 2*np.pi, lambda theta: thetamin, lambda theta: thetamax,args=(T,p0k,alpha,E))\n",
    "    \n",
    "    Z = Z_func(T,p0k,alpha,E,thetamin,thetamax)\n",
    "    \n",
    "    psi = np.arctan(tan2psi / Z) * (180 /(2*np.pi)) #Converting to degrees from radians and divide by two\n",
    "    \n",
    "    return psi"
   ]
  },
  {
   "cell_type": "markdown",
   "metadata": {},
   "source": [
    "# Construct an Array of all Computed Tilt Angles"
   ]
  },
  {
   "cell_type": "code",
   "execution_count": 19,
   "metadata": {
    "collapsed": false
   },
   "outputs": [],
   "source": [
    "def psi_all(tempsK,fields,alpha_array,p0k_array,thetamin,thetamax):\n",
    "    \"\"\"Constructs an array where each entry in the array is an array of computed Psis at a Temperature.\n",
    "    \n",
    "    Parameters/Conditions\n",
    "    ----------\n",
    "    theta: \n",
    "        Tilt Angle\n",
    "    phi:\n",
    "        Azimuthal Angle\n",
    "    T:\n",
    "        Temperature\n",
    "    p0k:\n",
    "        Dipole moment p0/k. Where k is Boltzmann's constant\n",
    "    alpha:\n",
    "        Tilt Susceptibility\n",
    "    E:\n",
    "        Applied Electric Field\n",
    "        \n",
    "    Returns\n",
    "    -------\n",
    "    Array: M Dimensional Entry with N entries. Where N is the number of Applied Electric Fields. \n",
    "    M is the number of Temperatures.\n",
    "    \"\"\"\n",
    "    \n",
    "    def psi_array(T,p0k,alpha,fields,thetamin,thetamax):\n",
    "        \"\"\"Computes thes tilt angles(psi) from tan(2psi) for every electric field applied at a constant Temperature\n",
    "        Returns\n",
    "        -------\n",
    "        Array: 1 Dimensional Entry with N entries. Where N is the number of Applied Electric Fields\n",
    "        \"\"\"\n",
    "        Psi_Array = np.array([compute_psi(T,p0k,alpha,E,thetamin,thetamax) for E in fields])\n",
    "        return Psi_Array\n",
    "\n",
    "    return np.array([psi_array(tempsK[i],p0k_array[i],alpha_array[i],fields,thetamin,thetamax) for i in range(len(tempsK))])"
   ]
  },
  {
   "cell_type": "code",
   "execution_count": 20,
   "metadata": {
    "collapsed": false
   },
   "outputs": [],
   "source": [
    "AllPsi_Array = psi_all(tempsK,fields,alpha_array,p0k_array,thetamin,thetamax)"
   ]
  },
  {
   "cell_type": "markdown",
   "metadata": {},
   "source": [
    "# Plotting Tilt Angle Results"
   ]
  },
  {
   "cell_type": "code",
   "execution_count": 21,
   "metadata": {
    "collapsed": true
   },
   "outputs": [],
   "source": [
    "def plot_psi(AllPsi,voltages,tempsK):\n",
    "    \"\"\" Sets up plotting visual settings and plots the computed Psi arrays at each temperature\"\"\"\n",
    "    plt.figure(figsize=(9,6));\n",
    "    for j in range(len(AllPsi)):\n",
    "        name = str(int(tempsK[j]-273.15)) + '$^{\\circ}$C'\n",
    "        plt.plot(voltages,AllPsi[j],label = name );\n",
    "    plt.title('Tilt Angle vs Electric Field');\n",
    "    plt.xlabel('Applied Electric Field E/$\\mu$m')\n",
    "    plt.ylabel('Tilt Angle $\\psi$')\n",
    "    \n",
    "    plt.xlim(0,voltages.max()+2)\n",
    "    plt.ylim(0,AllPsi_Array[0].max()+2)\n",
    "    plt.legend(loc=2)"
   ]
  },
  {
   "cell_type": "code",
   "execution_count": 22,
   "metadata": {
    "collapsed": false
   },
   "outputs": [
    {
     "data": {
      "image/png": "[encoded data removed]",
      "text/plain": [
       "<matplotlib.figure.Figure at 0x7ffb18d2a198>"
      ]
     },
     "metadata": {},
     "output_type": "display_data"
    }
   ],
   "source": [
    "plot_psi(AllPsi_Array,voltages,tempsK)"
   ]
  },
  {
   "cell_type": "markdown",
   "metadata": {},
   "source": [
    "# Plotting Parameters $\\alpha$ and $\\rho_0$"
   ]
  },
  {
   "cell_type": "code",
   "execution_count": 23,
   "metadata": {
    "collapsed": true
   },
   "outputs": [],
   "source": [
    "def plot_parameters(alpha_array,p0_array,tempsK):\n",
    "    \"\"\" Sets up plotting visual settings and plots parameters alpha and p0 vs temperature\"\"\"\n",
    "    tempsC = np.array([i-273 for i in tempsK])\n",
    "    p0_debye = np.array([i/3.33e-30 for i in p0_array])\n",
    "    alpha_um = np.array([i/1e-6 for i in alpha_array])\n",
    "\n",
    "    fig, (ax1,ax2) = plt.subplots(2,1,figsize=(6,8));\n",
    "    plt.sca(ax2);\n",
    "    plt.scatter(tempsC,p0_debye);\n",
    "    plt.title('Polarization Parameter vs Temperature');\n",
    "    plt.xlabel('Temperature $^{\\circ}$C');\n",
    "    plt.ylabel('rho (debye)');\n",
    "\n",
    "    plt.sca(ax1);\n",
    "    plt.scatter(tempsC,alpha_um);\n",
    "    plt.title('Alpha Parameter vs Temperature');\n",
    "    plt.xlabel('Temperature $^{\\circ}$C');\n",
    "    plt.ylabel('alpha ($\\mu$m/V)');\n",
    "    plt.tight_layout();"
   ]
  },
  {
   "cell_type": "code",
   "execution_count": 24,
   "metadata": {
    "collapsed": false
   },
   "outputs": [
    {
     "data": {
      "image/png": "[encoded data removed]",
      "text/plain": [
       "<matplotlib.figure.Figure at 0x7ffb18c614a8>"
      ]
     },
     "metadata": {},
     "output_type": "display_data"
    }
   ],
   "source": [
    "plot_parameters(alpha_array,p0_array,tempsK)"
   ]
  },
  {
   "cell_type": "code",
   "execution_count": null,
   "metadata": {
    "collapsed": true
   },
   "outputs": [],
   "source": []
  }
 ],
 "metadata": {
  "kernelspec": {
   "display_name": "Python 3",
   "language": "python",
   "name": "python3"
  },
  "language_info": {
   "codemirror_mode": {
    "name": "ipython",
    "version": 3
   },
   "file_extension": ".py",
   "mimetype": "text/x-python",
   "name": "python",
   "nbconvert_exporter": "python",
   "pygments_lexer": "ipython3",
   "version": "3.4.0"
  }
 },
 "nbformat": 4,
 "nbformat_minor": 0
}
