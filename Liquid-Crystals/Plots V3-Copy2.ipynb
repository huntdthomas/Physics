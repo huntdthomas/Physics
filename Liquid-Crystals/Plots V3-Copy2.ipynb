{
 "cells": [
  {
   "cell_type": "markdown",
   "metadata": {},
   "source": [
    "TO DO:"
   ]
  },
  {
   "cell_type": "markdown",
   "metadata": {},
   "source": [
    "Need to be able to scatter plot measured values of Psi on top of the current Psi plot."
   ]
  },
  {
   "cell_type": "markdown",
   "metadata": {},
   "source": [
    "alpha and rho LaTeX not working in plots."
   ]
  },
  {
   "cell_type": "markdown",
   "metadata": {},
   "source": [
    "Legend needs to be move in the Psi plot."
   ]
  },
  {
   "cell_type": "markdown",
   "metadata": {},
   "source": [
    "Consider also applying the scatter of the data and curve fit style of plotting for the parameters"
   ]
  },
  {
   "cell_type": "markdown",
   "metadata": {},
   "source": [
    "Plots in general need to look better"
   ]
  },
  {
   "cell_type": "markdown",
   "metadata": {},
   "source": [
    "LaTex in all of the equations"
   ]
  },
  {
   "cell_type": "code",
   "execution_count": 16,
   "metadata": {
    "collapsed": true
   },
   "outputs": [],
   "source": [
    "import numpy as np\n",
    "from scipy.integrate import quad, dblquad\n",
    "%matplotlib inline\n",
    "import matplotlib.pyplot as plt"
   ]
  },
  {
   "cell_type": "markdown",
   "metadata": {},
   "source": [
    "This notebook calculates and plots the theoretical tilt angles. It will also plot the alpha and p0 factors vs temperature that are given in the cell below this."
   ]
  },
  {
   "cell_type": "code",
   "execution_count": 17,
   "metadata": {
    "collapsed": false
   },
   "outputs": [],
   "source": [
    "tempsK = np.array([299,300,302,304,306,308,310]) #Kelvin\n",
    "\n",
    "voltages = np.array([2,3,6,7,9,11,12.5,14,16,18,20,22,23,25,27,29,31,32,33,35])\n",
    "\n",
    "alpha_array = np.array([2.55e-07,2.45e-07,2.25e-07,2.075e-07,1.85e-07,1.75e-07,1.45e-07])\n",
    "p0_array = np.array([2.1645e-27,1.58175e-27,9.99e-28,6.993e-28,5.328e-28,4.1625e-28,3.1635e-28]) #Temperature Increases to the right"
   ]
  },
  {
   "cell_type": "code",
   "execution_count": 18,
   "metadata": {
    "collapsed": false
   },
   "outputs": [],
   "source": [
    "thetamin = 25.6*np.pi/180\n",
    "thetamax = 33.7*np.pi/180\n",
    "t = 4*10**-6 #Cell Thickness"
   ]
  },
  {
   "cell_type": "code",
   "execution_count": 19,
   "metadata": {
    "collapsed": true
   },
   "outputs": [],
   "source": [
    "fields = np.array([entry/t for entry in voltages])\n",
    "p0k_array = np.array([thing/(1.38e-23) for thing in p0_array])"
   ]
  },
  {
   "cell_type": "code",
   "execution_count": 20,
   "metadata": {
    "collapsed": true
   },
   "outputs": [],
   "source": [
    "def Boltz(theta,phi,T,p0k,alpha,E):\n",
    "    \"\"\"Compute the integrand for the Boltzmann factor.\n",
    "    Returns\n",
    "    -------\n",
    "    A function of theta,phi,T,p0k,alpha,E to be used within dblquad\n",
    "    \"\"\"\n",
    "    return np.exp((1/T)*p0k*E*np.sin(theta)*np.cos(phi)*(1+alpha*E*np.cos(phi)))*np.sin(theta)"
   ]
  },
  {
   "cell_type": "markdown",
   "metadata": {},
   "source": [
    "$$ Z(\\theta,\\phi,U) = \\int_{\\theta_{min}}^{\\theta_{max}} \\int_0^{2\\pi} e^{\\frac{-U}{k_bT}}\\:sin\\:{\\theta}\\: d\\theta d\\phi $$"
   ]
  },
  {
   "cell_type": "code",
   "execution_count": 21,
   "metadata": {
    "collapsed": false
   },
   "outputs": [],
   "source": [
    "def Z_func(T,p0k,alpha,E,thetamin,thetamax):\n",
    "    \"\"\"Compute the Boltzmann factor by using dblquad to double integrate for a set of conditions.\n",
    "    Returns\n",
    "    -------\n",
    "    Float :\n",
    "        The Boltzmann factor, Z, at theta,phi,T,p0k,alpha,E\n",
    "    \"\"\"\n",
    "\n",
    "    Z, Z_error = dblquad(Boltz, thetamin, thetamax, lambda theta: 0, lambda theta: 2*np.pi,args=(T,p0k,alpha,E))\n",
    "\n",
    "    return Z"
   ]
  },
  {
   "cell_type": "code",
   "execution_count": 22,
   "metadata": {
    "collapsed": false
   },
   "outputs": [],
   "source": [
    "def psi_func(theta,phi,T,p0k,alpha,E):\n",
    "    \"\"\"Compute the integrand for use in our <tan(2psi)> equation.\n",
    "    Returns\n",
    "    -------\n",
    "    X(theta,phi)*exp(-U/kT)\n",
    "    A function of theta,phi,T,p0k,alpha,E to be used within dblquad\n",
    "    \"\"\"\n",
    "    numerator = np.sin(2*theta)*np.cos(phi)\n",
    "\n",
    "    denominator = np.cos(theta)**2 - np.sin(theta)**2 * np.cos(phi)**2\n",
    "\n",
    "    boltz = Boltz(theta,phi,T,p0k,alpha,E)\n",
    "\n",
    "    return numerator*boltz*np.sin(theta)/denominator"
   ]
  },
  {
   "cell_type": "markdown",
   "metadata": {},
   "source": [
    "$$ tan(2\\psi) = \\frac{1}{Z}\\int_{\\theta_{min}}^{\\theta_{max}} \\int_0^{2\\pi} \\frac{sin\\:{2\\theta}\\:cos\\:{\\phi}}{{cos}^2{\\theta} - {sin}^2{\\theta}\\:{cos}^2{\\phi}}\\:e^{\\frac{-U}{k_bT}}\\:sin{(\\theta})\\: d\\theta d\\phi $$"
   ]
  },
  {
   "cell_type": "code",
   "execution_count": 23,
   "metadata": {
    "collapsed": true
   },
   "outputs": [],
   "source": [
    "def compute_psi(T,p0k,alpha,E,thetamin,thetamax):\n",
    "    \"\"\"Computes the tilt angle(psi) by use of our tan(2psi) equation\n",
    "    Returns\n",
    "    -------\n",
    "    Float:\n",
    "    The statistical tilt angle with conditions T,p0k,alpha,E\n",
    "    \"\"\"\n",
    "    \n",
    "    tan2psi, tan2psi_error = dblquad(psi_func, thetamin, thetamax, lambda theta: 0, lambda theta: 2*np.pi,args=(T,p0k,alpha,E))\n",
    "    \n",
    "    Z = Z_func(T,p0k,alpha,E,thetamin,thetamax)\n",
    "    \n",
    "    psi = np.arctan(tan2psi / Z) * (180 / np.pi)\n",
    "    \n",
    "    return psi"
   ]
  },
  {
   "cell_type": "code",
   "execution_count": 24,
   "metadata": {
    "collapsed": false
   },
   "outputs": [],
   "source": [
    "def psi_all(tempsK,fields,alpha_array,p0k_array,thetamin,thetamax):\n",
    "    \"\"\"Constructs an array where each entry in the array is an array of computed Psis at a Temperature.\n",
    "    Returns\n",
    "    -------\n",
    "    Array: M Dimensional Entry with N entries. Where N is the number of Applied Electric Fields. M is the number of Temperatures.\n",
    "    \"\"\"\n",
    "    \n",
    "    def psi_array(T,p0k,alpha,fields,thetamin,thetamax):\n",
    "        \"\"\"Computes thes tilt angles(psi) by use of our tan(2psi) equation for every electric field applied at a constant Temperature\n",
    "        Returns\n",
    "        -------\n",
    "        Array: 1 Dimensional Entry with N entries. Where N is the number of Applied Electric Fields\n",
    "        \"\"\"\n",
    "        Psi_Array = np.array([compute_psi(T,p0k,alpha,E,thetamin,thetamax) for E in fields])\n",
    "        return Psi_Array\n",
    "\n",
    "    return np.array([psi_array(tempsK[i],p0k_array[i],alpha_array[i],fields,thetamin,thetamax) for i in range(len(tempsK))])"
   ]
  },
  {
   "cell_type": "code",
   "execution_count": 25,
   "metadata": {
    "collapsed": true
   },
   "outputs": [],
   "source": [
    "AllPsi_Array = psi_all(tempsK,fields,alpha_array,p0k_array,thetamin,thetamax)"
   ]
  },
  {
   "cell_type": "code",
   "execution_count": 30,
   "metadata": {
    "collapsed": false
   },
   "outputs": [
    {
     "data": {
      "text/plain": [
       "array([[ -1.89437132e-12,  -1.07089842e-12,  -3.01038756e-13,\n",
       "         -2.04934362e-13,  -9.53622741e-14,  -4.86425636e-14,\n",
       "         -2.87093867e-14,  -1.92989219e-14,  -1.14038725e-14,\n",
       "         -5.11264699e-15,  -1.31551366e-14,  -1.16666625e-14,\n",
       "         -1.23847831e-14,  -1.23807871e-14,  -1.26265475e-14,\n",
       "         -1.18840566e-14,  -1.21095188e-14,  -1.06657644e-14,\n",
       "         -1.16840343e-14,  -3.61462859e-15],\n",
       "       [ -2.75444273e-12,  -1.61658115e-12,  -5.17722771e-13,\n",
       "         -3.76283261e-13,  -2.04906381e-13,  -1.16526371e-13,\n",
       "         -7.32544918e-14,  -4.71233682e-14,  -2.92404808e-14,\n",
       "         -1.37205757e-14,  -1.21395583e-14,  -9.58471692e-15,\n",
       "         -8.41425919e-15,  -1.31478575e-14,  -1.24475402e-14,\n",
       "         -3.38905557e-15,  -3.45345393e-15,  -1.30589006e-14,\n",
       "         -1.21582703e-14,  -1.43217706e-14],\n",
       "       [ -4.66061960e-12,  -2.84678805e-12,  -1.05319042e-12,\n",
       "         -8.13014744e-13,  -5.01403332e-13,  -3.16381854e-13,\n",
       "         -2.28752246e-13,  -1.70828241e-13,  -1.06573739e-13,\n",
       "         -7.07590214e-14,  -4.69284754e-14,  -2.68936401e-14,\n",
       "         -2.47314034e-14,  -1.84056902e-14,  -1.32361588e-14,\n",
       "         -7.59823737e-15,  -8.32563149e-15,  -9.74826164e-15,\n",
       "         -9.88251896e-15,  -7.62206519e-15],\n",
       "       [ -6.97478668e-12,  -4.31850414e-12,  -1.70945102e-12,\n",
       "         -1.34688320e-12,  -8.84684401e-13,  -6.09275331e-13,\n",
       "         -4.63884275e-13,  -3.56366594e-13,  -2.52530734e-13,\n",
       "         -1.79835175e-13,  -1.26732406e-13,  -9.12123301e-14,\n",
       "         -7.69798982e-14,  -5.35230896e-14,  -3.99642871e-14,\n",
       "         -2.49491262e-14,  -1.70644260e-14,  -1.46948876e-14,\n",
       "         -1.82952453e-14,  -9.86680232e-15],\n",
       "       [ -9.39759789e-12,  -5.90346293e-12,  -2.43444419e-12,\n",
       "         -1.96019945e-12,  -1.33742713e-12,  -9.50274533e-13,\n",
       "         -7.48463233e-13,  -5.99934373e-13,  -4.50046284e-13,\n",
       "         -3.38320262e-13,  -2.55766738e-13,  -1.94450379e-13,\n",
       "         -1.66664308e-13,  -1.28291545e-13,  -9.70755859e-14,\n",
       "         -7.22058616e-14,  -5.76727883e-14,  -4.98637142e-14,\n",
       "         -4.37881079e-14,  -3.24186434e-14],\n",
       "       [ -1.22875397e-11,  -7.77536867e-12,  -3.30485372e-12,\n",
       "         -2.67964200e-12,  -1.86953485e-12,  -1.35905440e-12,\n",
       "         -1.09179353e-12,  -8.91896211e-13,  -6.86956985e-13,\n",
       "         -5.39783373e-13,  -4.23149012e-13,  -3.32825914e-13,\n",
       "         -3.07672568e-13,  -2.34896769e-13,  -1.85665032e-13,\n",
       "         -1.46883146e-13,  -1.20571197e-13,  -1.00651899e-13,\n",
       "         -9.20973461e-14,  -7.21260692e-14],\n",
       "       [ -1.66267873e-11,  -1.06276788e-11,  -4.67674967e-12,\n",
       "         -3.82342774e-12,  -2.72646878e-12,  -2.04440632e-12,\n",
       "         -1.67867754e-12,  -1.40001345e-12,  -1.11720502e-12,\n",
       "         -9.00464833e-13,  -7.34911570e-13,  -6.01613173e-13,\n",
       "         -5.46582591e-13,  -4.52735052e-13,  -3.75773375e-13,\n",
       "         -3.11339617e-13,  -2.57806222e-13,  -2.35857291e-13,\n",
       "         -2.12948080e-13,  -1.80012036e-13]])"
      ]
     },
     "execution_count": 30,
     "metadata": {},
     "output_type": "execute_result"
    }
   ],
   "source": [
    "AllPsi_Array"
   ]
  },
  {
   "cell_type": "code",
   "execution_count": 26,
   "metadata": {
    "collapsed": true
   },
   "outputs": [],
   "source": [
    "def plot_psi(AllPsi,voltages,tempsK):\n",
    "    \"\"\" Sets up plotting visual settings and plots the computed Psi arrays at each temperature\"\"\"\n",
    "    plt.figure(figsize=(9,6));\n",
    "    for j in range(len(AllPsi)):\n",
    "        name = str(tempsK[j]-273) + '$^{\\circ}$C'\n",
    "        plt.plot(voltages,AllPsi[j],label = name );\n",
    "    plt.title('Tilt Angle vs Electric Field');\n",
    "    plt.xlabel('Applied Electric Field E/$\\mu$m')\n",
    "    plt.ylabel('Tilt Angle $\\psi$')\n",
    "    \n",
    "    plt.xlim(0,AllPsi.max()+1)\n",
    "    plt.ylim(0,AllPsi.max()+1)\n",
    "    plt.legend(loc=2)"
   ]
  },
  {
   "cell_type": "code",
   "execution_count": 27,
   "metadata": {
    "collapsed": false
   },
   "outputs": [
    {
     "data": {
      "image/png": "[encoded data removed]",
      "text/plain": [
       "<matplotlib.figure.Figure at 0x7f1827241da0>"
      ]
     },
     "metadata": {},
     "output_type": "display_data"
    }
   ],
   "source": [
    "plot_psi(AllPsi_Array,voltages,tempsK)"
   ]
  },
  {
   "cell_type": "code",
   "execution_count": 28,
   "metadata": {
    "collapsed": true
   },
   "outputs": [],
   "source": [
    "def plot_parameters(alpha_array,p0_array,tempsK):\n",
    "    \"\"\" Sets up plotting visual settings and plots parameters alpha and p0 as functions of temperature\"\"\"\n",
    "    tempsC = np.array([i-273 for i in tempsK])\n",
    "    p0_debye = np.array([i/3.33e-30 for i in p0_array])\n",
    "    alpha_um = np.array([i/1e-6 for i in alpha_array])\n",
    "\n",
    "    fig, (ax1,ax2) = plt.subplots(2,1,figsize=(6,8));\n",
    "    plt.sca(ax1);\n",
    "    plt.scatter(tempsC,p0_debye);\n",
    "    plt.title('Polarization Parameter vs Temperature');\n",
    "    plt.xlabel('Temperature $^{\\circ}$C');\n",
    "    plt.ylabel('rho (debye)');\n",
    "\n",
    "    plt.sca(ax2);\n",
    "    plt.scatter(tempsC,alpha_um);\n",
    "    plt.title('Alpha Parameter vs Temperature');\n",
    "    plt.xlabel('Temperature $^{\\circ}$C');\n",
    "    plt.ylabel('alpha ($\\mu$m/V)');\n",
    "    plt.tight_layout()"
   ]
  },
  {
   "cell_type": "code",
   "execution_count": 29,
   "metadata": {
    "collapsed": false
   },
   "outputs": [
    {
     "data": {
      "image/png": "[encoded data removed]",
      "text/plain": [
       "<matplotlib.figure.Figure at 0x7f18274e27f0>"
      ]
     },
     "metadata": {},
     "output_type": "display_data"
    }
   ],
   "source": [
    "plot_parameters(alpha_array,p0_array,tempsK)"
   ]
  },
  {
   "cell_type": "markdown",
   "metadata": {},
   "source": [
    "\n",
    "    Parameters/Conditions\n",
    "    ----------\n",
    "    theta: \n",
    "        Tilt Angle\n",
    "    phi:\n",
    "        Azimuthal Angle\n",
    "    T:\n",
    "        Temperature\n",
    "    p0k:\n",
    "        Dipole moment p0/k. Where k is Boltzmann's constant\n",
    "    alpha:\n",
    "        Tilt Susceptibility\n",
    "    E:\n",
    "        Applied Electric Field"
   ]
  }
 ],
 "metadata": {
  "kernelspec": {
   "display_name": "Python 3",
   "language": "python",
   "name": "python3"
  },
  "language_info": {
   "codemirror_mode": {
    "name": "ipython",
    "version": 3
   },
   "file_extension": ".py",
   "mimetype": "text/x-python",
   "name": "python",
   "nbconvert_exporter": "python",
   "pygments_lexer": "ipython3",
   "version": "3.4.0"
  }
 },
 "nbformat": 4,
 "nbformat_minor": 0
}
