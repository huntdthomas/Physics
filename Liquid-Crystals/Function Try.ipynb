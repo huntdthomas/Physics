{
 "cells": [
  {
   "cell_type": "code",
   "execution_count": 1,
   "metadata": {
    "collapsed": true
   },
   "outputs": [],
   "source": [
    "import numpy as np\n",
    "from scipy.integrate import quad, dblquad\n",
    "%matplotlib inline\n",
    "import matplotlib.pyplot as plt\n",
    "from scipy.optimize import minimize"
   ]
  },
  {
   "cell_type": "code",
   "execution_count": 2,
   "metadata": {
    "collapsed": false
   },
   "outputs": [],
   "source": [
    "thetamin = 17.8*np.pi/180\n",
    "thetamax = 33.4*np.pi/180\n",
    "t = 4*10**-6 #Cell Thickness"
   ]
  },
  {
   "cell_type": "code",
   "execution_count": 3,
   "metadata": {
    "collapsed": false
   },
   "outputs": [],
   "source": [
    "def compute_psi(E,alpha,p0):\n",
    "    \n",
    "    p0k = p0/1.38e-23\n",
    "    \n",
    "    #Scaling Parameters to try and help the best fit.\n",
    "    p0k = p0k/(10**30)\n",
    "    alpha = alpha/(10**10)\n",
    "    \n",
    "    def Boltz(theta,phi):\n",
    "        return np.exp((1/T)*p0k*E*np.sin(theta)*np.cos(phi)*(1+alpha*E*np.cos(phi)))*np.sin(theta)\n",
    "\n",
    "    def psi_fun(theta,phi):\n",
    "        numerator = np.sin(2*theta)*np.cos(phi)\n",
    "        denominator = np.cos(theta)**2 - np.sin(theta)**2 * np.cos(phi)**2\n",
    "        boltz = np.exp((1/T)*p0k*E*np.sin(theta)*np.cos(phi)*(1+alpha*E*np.cos(phi)))\n",
    "        return numerator*boltz*np.sin(theta)/denominator\n",
    "\n",
    "    tan2psi= dblquad(psi_fun,0, 2*np.pi,lambda theta: thetamin, lambda theta: thetamax)[0]/10e100\n",
    "    Z= dblquad(Boltz,0, 2*np.pi,lambda theta: thetamin, lambda theta: thetamax)[0]/10e100\n",
    "    psi = np.arctan(tan2psi/Z)/2*180/np.pi\n",
    "    \n",
    "    return psi"
   ]
  },
  {
   "cell_type": "code",
   "execution_count": 4,
   "metadata": {
    "collapsed": true
   },
   "outputs": [],
   "source": [
    "def compute_error(xo):\n",
    "    alpha = xo[0]\n",
    "    p0 = xo[1]\n",
    "    computed_psi = np.array([compute_psi(entry,alpha,p0) for entry in fields])\n",
    "    Err = computed_psi - measured_psi\n",
    "    ErrSqr = np.array([i**2 for i in Err])    \n",
    "    return np.sum(ErrSqr)"
   ]
  },
  {
   "cell_type": "code",
   "execution_count": 21,
   "metadata": {
    "collapsed": true
   },
   "outputs": [],
   "source": [
    "temps = np.array([308])\n",
    "\n",
    "Eum = np.array([2,3,6,7,9,11,12.5,14,16,18,20,22,23,25])\n",
    "fields = np.array([i/(4*10**-6) for i in Eum])\n",
    "\n",
    "psi1 = np.array([6,16,22,26,27.5,28,29,29.8,30,30.5,30.75,31,31.25,31.5])\n",
    "\n",
    "# psi1 = np.array([[4.9056387, 16.85256143, 26.0563618 , 29.6809293, 31.14129687, 31.85484219, 32.26360885, 32.52501654, 32.70447992, 32.83371617]])\n",
    "# psi2 = np.array([[4.36543608, 14.96461593, 24.4347061 ,28.81634912, 30.64663329, 31.53674634, 32.03723313, 32.35241811, 32.5670272, 32.72108479]])\n",
    "# measured_psis = np.concatenate((psi1,psi2),axis=0)\n",
    "\n",
    "measured_psis = psi1\n",
    "\n",
    "results = np.array([])\n",
    "xres=np.array([])\n",
    "\n",
    "guess = (3000, 2000) #[alpha*10^10,p0*10^30]"
   ]
  },
  {
   "cell_type": "markdown",
   "metadata": {},
   "source": [
    "Loop through an array of temperatures and compute the parameters at each temperature"
   ]
  },
  {
   "cell_type": "code",
   "execution_count": 22,
   "metadata": {
    "collapsed": false
   },
   "outputs": [
    {
     "data": {
      "text/plain": [
       "array([ 2000.,  1000.])"
      ]
     },
     "execution_count": 22,
     "metadata": {},
     "output_type": "execute_result"
    }
   ],
   "source": [
    "for i in range(len(temps)):\n",
    "    measured_psi=measured_psis[i]\n",
    "    T = temps[i]\n",
    "    bnds = ((2000, 5000), (1000, 4000))\n",
    "    res = minimize(compute_error, guess,method = 'SLSQP', bounds=bnds)\n",
    "    xres = np.array(dict(res.items())['x'])\n",
    "    results = np.concatenate([results,xres], axis=0)\n",
    "    guess = xres\n",
    "results\n",
    "    "
   ]
  },
  {
   "cell_type": "code",
   "execution_count": 23,
   "metadata": {
    "collapsed": false
   },
   "outputs": [
    {
     "data": {
      "text/plain": [
       "0.20000000000000545"
      ]
     },
     "execution_count": 23,
     "metadata": {},
     "output_type": "execute_result"
    }
   ],
   "source": [
    "results[0]*10**-4"
   ]
  },
  {
   "cell_type": "code",
   "execution_count": 24,
   "metadata": {
    "collapsed": false
   },
   "outputs": [
    {
     "data": {
      "text/plain": [
       "300.30030030029423"
      ]
     },
     "execution_count": 24,
     "metadata": {},
     "output_type": "execute_result"
    }
   ],
   "source": [
    "results[1]/3.33"
   ]
  },
  {
   "cell_type": "code",
   "execution_count": 9,
   "metadata": {
    "collapsed": false
   },
   "outputs": [],
   "source": [
    "# minimize(compute_error, guess, method='SLSQP', bounds=bnds)"
   ]
  },
  {
   "cell_type": "markdown",
   "metadata": {},
   "source": [
    "TO DO:"
   ]
  },
  {
   "cell_type": "markdown",
   "metadata": {},
   "source": [
    "LSA_parameters output is sloppy."
   ]
  },
  {
   "cell_type": "markdown",
   "metadata": {},
   "source": [
    "LSA_parameters needs to be able to run through a range of temperatures and for each temperature run through all of the fields. And return an array of all the computed parameters"
   ]
  },
  {
   "cell_type": "markdown",
   "metadata": {},
   "source": [
    "Use parameters and plots V2 to make my own curve fit."
   ]
  },
  {
   "cell_type": "markdown",
   "metadata": {},
   "source": [
    "Look through the minimization methods and find one that works the best for this situation"
   ]
  }
 ],
 "metadata": {
  "kernelspec": {
   "display_name": "Python 3",
   "language": "python",
   "name": "python3"
  },
  "language_info": {
   "codemirror_mode": {
    "name": "ipython",
    "version": 3
   },
   "file_extension": ".py",
   "mimetype": "text/x-python",
   "name": "python",
   "nbconvert_exporter": "python",
   "pygments_lexer": "ipython3",
   "version": "3.4.0"
  }
 },
 "nbformat": 4,
 "nbformat_minor": 0
}
