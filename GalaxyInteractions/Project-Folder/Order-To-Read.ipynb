{
 "cells": [
  {
   "cell_type": "markdown",
   "metadata": {},
   "source": [
    "solve.py contains everything related to solving the equations of motion.\n",
    "\n",
    "plot.py is for plotting and animating.\n",
    "\n",
    "energy.py can calculate the energy and plot it versus t, I did not use this much because the energy wasn't well conserved. \n",
    "11% and 68% error for parabolic and hypberbolic.\n",
    "\n",
    "Write-Solutions calls solve.py, then goes through and writes all of the possible combinations of solutions to npz files. This is why there are so many npz files in the directory. I only chose a few to animate in the presentation.\n",
    "\n",
    "Presentation ties everything together with the animations from plot.py."
   ]
  }
 ],
 "metadata": {
  "kernelspec": {
   "display_name": "Python 3",
   "language": "python",
   "name": "python3"
  },
  "language_info": {
   "codemirror_mode": {
    "name": "ipython",
    "version": 3
   },
   "file_extension": ".py",
   "mimetype": "text/x-python",
   "name": "python",
   "nbconvert_exporter": "python",
   "pygments_lexer": "ipython3",
   "version": "3.4.0"
  }
 },
 "nbformat": 4,
 "nbformat_minor": 0
}
