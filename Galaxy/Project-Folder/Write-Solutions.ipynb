{
 "cells": [
  {
   "cell_type": "markdown",
   "metadata": {},
   "source": [
    "This is a utility notebook/script that goes through and writes all of the possible combinations of solutions to npz files.\n",
    "\n",
    "Hyperbolic/Parabolic\n",
    "\n",
    "Retrograde/Direct\n",
    "\n",
    "CM Frame/M Frame\n",
    "\n",
    "Equal Mass Disruptor/Heavy Mass Disruptor"
   ]
  },
  {
   "cell_type": "markdown",
   "metadata": {},
   "source": [
    "This notebook probably takes 2 minutes or so to run in entirety"
   ]
  },
  {
   "cell_type": "code",
   "execution_count": 3,
   "metadata": {
    "collapsed": false
   },
   "outputs": [],
   "source": [
    "import numpy as np\n",
    "import seaborn as sns\n",
    "from scipy.integrate import odeint\n",
    "from solve import *"
   ]
  },
  {
   "cell_type": "code",
   "execution_count": 4,
   "metadata": {
    "collapsed": true
   },
   "outputs": [],
   "source": [
    "M = 1e1\n",
    "S = 1e1\n",
    "Rmin = 25\n",
    "\n",
    "e = 7 #Eccentricity\n",
    "\n",
    "r_array = np.array([.2,.3,.4,.5,.6])*Rmin\n",
    "N_array = np.array([12,18,24,30,36])\n",
    "\n",
    "steps = 1e3\n",
    "t = np.linspace(0,.4,steps) #Timescale of 1 billion years\n",
    "\n",
    "atol=1e-6\n",
    "rtol=1e-6\n",
    "gamma = 4.49933e4 #Units ((kpc)^3)/((M_sun^10)(billion_years)^2)"
   ]
  },
  {
   "cell_type": "code",
   "execution_count": 5,
   "metadata": {
    "collapsed": true
   },
   "outputs": [],
   "source": [
    "Boolean = np.array([True,False])"
   ]
  },
  {
   "cell_type": "markdown",
   "metadata": {},
   "source": [
    "#Equal Mass Disruptor Solutions"
   ]
  },
  {
   "cell_type": "code",
   "execution_count": 8,
   "metadata": {
    "collapsed": false
   },
   "outputs": [
    {
     "name": "stdout",
     "output_type": "stream",
     "text": [
      "Excess work done on this call (perhaps wrong Dfun type).\n",
      "Run with full_output = 1 to get quantitative information.\n",
      "Excess work done on this call (perhaps wrong Dfun type).\n",
      "Run with full_output = 1 to get quantitative information.\n"
     ]
    }
   ],
   "source": [
    "for bool1 in Boolean:\n",
    "    CenterOfMass = bool1\n",
    "    for bool2 in Boolean:\n",
    "        Hyperbolic_Approach = bool2\n",
    "        \n",
    "        IC = set_IC(Hyperbolic_Approach,M,S)\n",
    "        for bool3 in Boolean:\n",
    "            Retrograde_Orbit = bool3\n",
    "            \n",
    "            allic = all_ic(N_array,r_array,IC,Retrograde_Orbit)\n",
    "            \n",
    "            sln = solution(t,allic,N_array,atol,rtol,gamma,Hyperbolic_Approach,M,S)\n",
    "            x,dx,y,dy,X,dX,Y,dY = coordinate_solution(sln,steps)\n",
    "            soln = np.array(frame(x,dx,y,dy,X,dX,Y,dY,CenterOfMass,M,S))\n",
    "            \n",
    "            if CenterOfMass == False:\n",
    "                if Hyperbolic_Approach == True:\n",
    "                    if Retrograde_Orbit == True:\n",
    "                        np.savez('Hyp_Ret_M',x = soln[0], dx = soln[1],y = soln[2],dy = soln[3],X = soln[4],dX = soln[5],Y = soln[6],dY = soln[7])\n",
    "                    else:\n",
    "                        np.savez('Hyp_Dir_M',x = soln[0], dx = soln[1],y = soln[2],dy = soln[3],X = soln[4],dX = soln[5],Y = soln[6],dY = soln[7])\n",
    "                else:\n",
    "                    if Retrograde_Orbit == True:\n",
    "                        np.savez('Par_Ret_M',x = soln[0], dx = soln[1],y = soln[2],dy = soln[3],X = soln[4],dX = soln[5],Y = soln[6],dY = soln[7])\n",
    "                    else:\n",
    "                        np.savez('Par_Dir_M',x = soln[0], dx = soln[1],y = soln[2],dy = soln[3],X = soln[4],dX = soln[5],Y = soln[6],dY = soln[7])\n",
    "            else:\n",
    "                if Hyperbolic_Approach == True:\n",
    "                    if Retrograde_Orbit == True:\n",
    "                        np.savez('Hyp_Ret_Cen',x = soln[0], y = soln[1],X1 = soln[2],Y1 = soln[3],X2 = soln[4],Y2 = soln[5])\n",
    "                    else:\n",
    "                        np.savez('Hyp_Dir_Cen',x = soln[0], y = soln[1],X1 = soln[2],Y1 = soln[3],X2 = soln[4],Y2 = soln[5])\n",
    "                else:\n",
    "                    if Retrograde_Orbit == True:\n",
    "                        np.savez('Par_Ret_Cen',x = soln[0], y = soln[1],X1 = soln[2],Y1 = soln[3],X2 = soln[4],Y2 = soln[5])\n",
    "                    else:\n",
    "                        np.savez('Par_Dir_Cen',x = soln[0], y = soln[1],X1 = soln[2],Y1 = soln[3],X2 = soln[4],Y2 = soln[5])"
   ]
  },
  {
   "cell_type": "markdown",
   "metadata": {
    "collapsed": true
   },
   "source": [
    "# Writing Heavy Mass Disruptor Solutions"
   ]
  },
  {
   "cell_type": "code",
   "execution_count": 9,
   "metadata": {
    "collapsed": true
   },
   "outputs": [],
   "source": [
    "M = 1e1\n",
    "S = 3e1"
   ]
  },
  {
   "cell_type": "code",
   "execution_count": 10,
   "metadata": {
    "collapsed": false
   },
   "outputs": [],
   "source": [
    "for bool1 in Boolean:\n",
    "    CenterOfMass = bool1\n",
    "    for bool2 in Boolean:\n",
    "        Hyperbolic_Approach = bool2\n",
    "        \n",
    "        IC = set_IC(Hyperbolic_Approach,M,S)\n",
    "        for bool3 in Boolean:\n",
    "            Retrograde_Orbit = bool3\n",
    "            \n",
    "            allic = all_ic(N_array,r_array,IC,Retrograde_Orbit)\n",
    "            \n",
    "            sln = solution(t,allic,N_array,atol,rtol,gamma,Hyperbolic_Approach,M,S)\n",
    "            x,dx,y,dy,X,dX,Y,dY = coordinate_solution(sln,steps)\n",
    "            soln = np.array(frame(x,dx,y,dy,X,dX,Y,dY,CenterOfMass,M,S))\n",
    "            \n",
    "            if CenterOfMass == False:\n",
    "                if Hyperbolic_Approach == True:\n",
    "                    if Retrograde_Orbit == True:\n",
    "                        np.savez('Hyp_Ret_M_H',x = soln[0], dx = soln[1],y = soln[2],dy = soln[3],X = soln[4],dX = soln[5],Y = soln[6],dY = soln[7])\n",
    "                    else:\n",
    "                        np.savez('Hyp_Dir_M_H',x = soln[0], dx = soln[1],y = soln[2],dy = soln[3],X = soln[4],dX = soln[5],Y = soln[6],dY = soln[7])\n",
    "                else:\n",
    "                    if Retrograde_Orbit == True:\n",
    "                        np.savez('Par_Ret_M_H',x = soln[0], dx = soln[1],y = soln[2],dy = soln[3],X = soln[4],dX = soln[5],Y = soln[6],dY = soln[7])\n",
    "                    else:\n",
    "                        np.savez('Par_Dir_M_H',x = soln[0], dx = soln[1],y = soln[2],dy = soln[3],X = soln[4],dX = soln[5],Y = soln[6],dY = soln[7])\n",
    "            else:\n",
    "                if Hyperbolic_Approach == True:\n",
    "                    if Retrograde_Orbit == True:\n",
    "                        np.savez('Hyp_Ret_Cen_H',x = soln[0], y = soln[1],X1 = soln[2],Y1 = soln[3],X2 = soln[4],Y2 = soln[5])\n",
    "                    else:\n",
    "                        np.savez('Hyp_Dir_Cen_H',x = soln[0], y = soln[1],X1 = soln[2],Y1 = soln[3],X2 = soln[4],Y2 = soln[5])\n",
    "                else:\n",
    "                    if Retrograde_Orbit == True:\n",
    "                        np.savez('Par_Ret_Cen_H',x = soln[0], y = soln[1],X1 = soln[2],Y1 = soln[3],X2 = soln[4],Y2 = soln[5])\n",
    "                    else:\n",
    "                        np.savez('Par_Dir_Cen_H',x = soln[0], y = soln[1],X1 = soln[2],Y1 = soln[3],X2 = soln[4],Y2 = soln[5])"
   ]
  },
  {
   "cell_type": "code",
   "execution_count": null,
   "metadata": {
    "collapsed": true
   },
   "outputs": [],
   "source": []
  }
 ],
 "metadata": {
  "kernelspec": {
   "display_name": "Python 3",
   "language": "python",
   "name": "python3"
  },
  "language_info": {
   "codemirror_mode": {
    "name": "ipython",
    "version": 3
   },
   "file_extension": ".py",
   "mimetype": "text/x-python",
   "name": "python",
   "nbconvert_exporter": "python",
   "pygments_lexer": "ipython3",
   "version": "3.4.0"
  }
 },
 "nbformat": 4,
 "nbformat_minor": 0
}
